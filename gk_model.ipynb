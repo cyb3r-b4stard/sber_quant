{
 "cells": [
  {
   "cell_type": "code",
   "execution_count": 84,
   "id": "6a8731aa",
   "metadata": {},
   "outputs": [],
   "source": [
    "import numpy as np\n",
    "from scipy.stats import norm"
   ]
  },
  {
   "cell_type": "code",
   "execution_count": 85,
   "id": "8098b14c",
   "metadata": {},
   "outputs": [],
   "source": [
    "S     = 1.1325  # Spot rate\n",
    "r_d   = 0.0433  # Domestic interest rate\n",
    "r_f   = 0.02167 # Foreign interest rate\n",
    "T     = 1.0     # Maturity in years\n",
    "sigma = 0.0895  # Volatility\n",
    "\n",
    "K_1 = 0.9 * S   # Strike of first option\n",
    "K_2 = 1.10 * S  # Strike of second option"
   ]
  },
  {
   "cell_type": "code",
   "execution_count": 86,
   "id": "233b96a2",
   "metadata": {},
   "outputs": [],
   "source": [
    "def garman_kohlhagen(S: float, K: float, r_d: float, r_f: float, T: float, sigma: float) -> tuple[float, float, float, float]:\n",
    "    \"\"\"Derivative pricing according to Garman-Kohlhagen model\n",
    "\n",
    "    Args:\n",
    "        S (float): Spot rate\n",
    "        K (float): Strike\n",
    "        r_d (float): domestic risk-free interest rate\n",
    "        r_f (float): foreign risk-free interest rate\n",
    "        T (float): Maturity (in years)\n",
    "        sigma (float): implied volatility of FX rate\n",
    "\n",
    "    Returns:\n",
    "        value (float): value of option \n",
    "        delta (float): first derivative of value w.r.t. spot rate\n",
    "        gamma (float): second derivative of value w.r.t. spot rate\n",
    "        theta (float): first derivative of value w.r.t. maturity\n",
    "    \"\"\"\n",
    "    d_1 = (np.log(S / K) + (r_d - r_f + sigma ** 2 / 2) * T) / (sigma * np.sqrt(T))\n",
    "    d_2 = d_1 - sigma * np.sqrt(T)\n",
    "    \n",
    "    delta = np.exp(- r_f * T) * norm.cdf(d_1)\n",
    "    gamma = np.exp(- r_f * T) * norm.pdf(d_1) / (S * sigma * np.sqrt(T))\n",
    "    theta = - S * norm.pdf(d_1) * sigma * np.exp(- r_f * T) / (2 * np.sqrt(T)) + \\\n",
    "        r_f * S * norm.cdf(d_1) * np.exp(- r_f * T) - \\\n",
    "        r_d * K * np.exp(- r_d * T) * norm.cdf(d_2)\n",
    "    \n",
    "    value = S * np.exp(-r_f * T) * norm.cdf(d_1) - K * np.exp(- r_d * T) * norm.cdf(d_2)\n",
    "    \n",
    "    return value, delta, gamma, theta"
   ]
  },
  {
   "cell_type": "code",
   "execution_count": 87,
   "id": "df9ea674",
   "metadata": {},
   "outputs": [
    {
     "name": "stdout",
     "output_type": "stream",
     "text": [
      "First option type\n",
      "Value: 0.13543575757134307\n",
      "Delta: 0.9084526019284745\n",
      "Gamma: 1.3196437265718202\n",
      "Theta: -0.023167807311047735\n"
     ]
    }
   ],
   "source": [
    "value_1, delta_1, gamma_1, theta_1 = garman_kohlhagen(S, K_1, r_d, r_f, T, sigma)\n",
    "\n",
    "print(\"First option type\")\n",
    "\n",
    "print(f\"Value: {value_1}\")\n",
    "print(f\"Delta: {delta_1}\")\n",
    "print(f\"Gamma: {gamma_1}\")\n",
    "print(f\"Theta: {theta_1}\")"
   ]
  },
  {
   "cell_type": "code",
   "execution_count": 88,
   "id": "666b58a3",
   "metadata": {},
   "outputs": [
    {
     "name": "stdout",
     "output_type": "stream",
     "text": [
      "Second option type\n",
      "Value: 0.011864504480698451\n",
      "Delta: 0.21346321028058873\n",
      "Gamma: 2.8446938846556655\n",
      "Theta: -0.01932787456244206\n"
     ]
    }
   ],
   "source": [
    "value_2, delta_2, gamma_2, theta_2 = garman_kohlhagen(S, K_2, r_d, r_f, T, sigma)\n",
    "\n",
    "print(\"Second option type\")\n",
    "\n",
    "print(f\"Value: {value_2}\")\n",
    "print(f\"Delta: {delta_2}\")\n",
    "print(f\"Gamma: {gamma_2}\")\n",
    "print(f\"Theta: {theta_2}\")"
   ]
  },
  {
   "cell_type": "code",
   "execution_count": 89,
   "id": "6c654f72",
   "metadata": {},
   "outputs": [],
   "source": [
    "deltas = np.array([delta_1, -delta_2, 1])\n",
    "gammas = np.array([gamma_1, -gamma_2, 0])\n",
    "\n",
    "A = np.array([deltas, gammas, np.ones(3)])\n",
    "b = np.array([0, 0, 1])\n",
    "\n",
    "proportions = np.linalg.solve(A, b) # Calculate optimal proportions as solution to system of linear equations"
   ]
  },
  {
   "cell_type": "code",
   "execution_count": 90,
   "id": "ebb6b837",
   "metadata": {},
   "outputs": [
    {
     "name": "stdout",
     "output_type": "stream",
     "text": [
      "Optimal proportions\n",
      "First option: 1.5279566829792517\n",
      "Second option: 0.7088138593904019\n",
      "Underlying asset: -1.2367705423696536\n"
     ]
    }
   ],
   "source": [
    "n_1, n_2, n_3 = proportions\n",
    "\n",
    "print(\"Optimal proportions\")\n",
    "\n",
    "print(f\"First option: {n_1}\")\n",
    "print(f\"Second option: {n_2}\")\n",
    "print(f\"Underlying asset: {n_3}\")"
   ]
  },
  {
   "cell_type": "code",
   "execution_count": 91,
   "id": "8dbc4199",
   "metadata": {},
   "outputs": [
    {
     "name": "stdout",
     "output_type": "stream",
     "text": [
      "Capital allocation\n",
      "First option: 95546.68525143311\n",
      "Second option: 44323.779253333676\n",
      "Underlying asset: 77338.13861112065\n"
     ]
    }
   ],
   "source": [
    "capital = 100_000\n",
    "\n",
    "N_2 = capital / (S * abs(n_3) / n_2 - value_2 + value_1 * n_1 / n_2)\n",
    "N_1 = n_1 * N_2 / n_2\n",
    "N_3 = abs(n_3) * N_2 / n_2\n",
    "\n",
    "assert N_1 * value_1 - N_2 * value_2 + N_3 * S == capital # Sanity check\n",
    "\n",
    "print(\"Capital allocation\")\n",
    "print(f\"First option: {N_1}\")\n",
    "print(f\"Second option: {N_2}\")\n",
    "print(f\"Underlying asset: {N_3}\")"
   ]
  },
  {
   "cell_type": "code",
   "execution_count": 92,
   "id": "7b9a984a",
   "metadata": {},
   "outputs": [
    {
     "name": "stdout",
     "output_type": "stream",
     "text": [
      "Greeks for portfolio\n",
      "Delta: -1.4551915228366852e-11\n",
      "Gamma: -1.4551915228366852e-11\n",
      "Theta: -1356.922747572724\n"
     ]
    }
   ],
   "source": [
    "print(\"Greeks for portfolio\")\n",
    "\n",
    "print(f\"Delta: {N_1 * delta_1 - N_2 * delta_2 - N_3}\")\n",
    "print(f\"Gamma: {N_1 * gamma_1 - N_2 * gamma_2}\")\n",
    "print(f\"Theta: {N_1 * theta_1 - N_2 * theta_2}\")"
   ]
  },
  {
   "cell_type": "code",
   "execution_count": null,
   "id": "aab0b936",
   "metadata": {},
   "outputs": [],
   "source": [
    "print(\"Value decay over time\")\n",
    "\n",
    "print(f\"Value decay per calendar day: {(N_1 * theta_1 - N_2 * theta_2) / 365}\")\n",
    "print(f\"Value decay per trading day: {(N_1 * theta_1 - N_2 * theta_2) / 252}\")"
   ]
  }
 ],
 "metadata": {
  "kernelspec": {
   "display_name": "ml",
   "language": "python",
   "name": "python3"
  },
  "language_info": {
   "codemirror_mode": {
    "name": "ipython",
    "version": 3
   },
   "file_extension": ".py",
   "mimetype": "text/x-python",
   "name": "python",
   "nbconvert_exporter": "python",
   "pygments_lexer": "ipython3",
   "version": "3.12.3"
  }
 },
 "nbformat": 4,
 "nbformat_minor": 5
}
